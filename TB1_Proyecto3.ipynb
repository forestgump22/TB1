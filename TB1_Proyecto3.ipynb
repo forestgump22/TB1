{
  "cells": [
    {
      "cell_type": "markdown",
      "id": "d6786553",
      "metadata": {
        "id": "d6786553"
      },
      "source": [
        "# 🧠 Proyecto TB1: Optimización de Ensayo de Orquesta\n",
        "\n",
        "**Curso:** Tópicos en Ciencias de Computación (2025-2)  \n",
        "**Autores:**\n",
        "    - [Nombre Alumno 1]\n",
        "    - [Nombre Alumno 2]\n",
        "    - [Nombre Alumno 3]\n",
        "    - [Nombre Alumno 4]\n",
        "    \n",
        "## 1. Introducción\n",
        "\n",
        "Este notebook presenta la solución al problema de **Optimización del Horario de un Ensayo de Orquesta**. El objetivo es encontrar la secuencia óptima de 9 composiciones para minimizar el tiempo total de espera de 5 músicos.\n",
        "\n",
        "El problema se ha modelado como un **Problema de Satisfacción de Restricciones con Optimización (CSOP)** y se ha resuelto utilizando Python."
      ]
    },
    {
      "cell_type": "markdown",
      "id": "2fbf6a5c",
      "metadata": {
        "id": "2fbf6a5c"
      },
      "source": [
        "## 2. Definición de los Datos del Problema\n",
        "\n",
        "En esta sección, definimos todas las variables de entrada basadas en la descripción del problema:\n",
        "-   La duración de cada composición.\n",
        "-   La matriz de participación que indica qué músico toca en cada composición."
      ]
    },
    {
      "cell_type": "code",
      "execution_count": 28,
      "id": "myDj-v9xyEZ1",
      "metadata": {
        "id": "myDj-v9xyEZ1"
      },
      "outputs": [],
      "source": [
        "import itertools\n",
        "import time"
      ]
    },
    {
      "cell_type": "code",
      "execution_count": 29,
      "id": "4eda9700",
      "metadata": {
        "id": "4eda9700"
      },
      "outputs": [],
      "source": [
        "# --- Datos del Problema ---\n",
        "# Índices 0-8 para Composiciones C1-C9\n",
        "DURACIONES = [2, 4, 1, 3, 3, 2, 5, 7, 6]\n",
        "MUSICOS = [\n",
        "    [1, 0, 1, 1, 0, 1, 1, 0, 1],  # Músico 1\n",
        "    [1, 0, 1, 1, 1, 1, 0, 1, 0],  # Músico 2\n",
        "    [1, 1, 0, 0, 1, 0, 0, 1, 0],  # Músico 3\n",
        "    [1, 0, 0, 0, 1, 0, 1, 0, 1],  # Músico 4\n",
        "    [0, 1, 0, 1, 1, 1, 1, 0, 0],  # Músico 5\n",
        "]"
      ]
    },
    {
      "cell_type": "code",
      "execution_count": 30,
      "id": "d35c0f13",
      "metadata": {
        "id": "d35c0f13"
      },
      "outputs": [],
      "source": [
        "def calcular_espera_total(orden, duraciones, musicos):\n",
        "    \"\"\"Calcula el tiempo total de espera para un orden de ensayo dado.\"\"\"\n",
        "    timeline = {}\n",
        "    tiempo_actual = 0\n",
        "    for comp_idx in orden:\n",
        "        inicio = tiempo_actual\n",
        "        fin = inicio + duraciones[comp_idx]\n",
        "        timeline[comp_idx] = {'inicio': inicio, 'fin': fin}\n",
        "        tiempo_actual = fin\n",
        "\n",
        "    espera_total = 0\n",
        "    detalles_musicos = []\n",
        "    \n",
        "    for i, musico_toca in enumerate(musicos):\n",
        "        piezas_del_musico = [c for c in orden if musico_toca[c] == 1]\n",
        "        \n",
        "        if not piezas_del_musico:\n",
        "            continue\n",
        "\n",
        "        llegada = timeline[piezas_del_musico[0]]['inicio']\n",
        "        salida = timeline[piezas_del_musico[-1]]['fin']\n",
        "        span = salida - llegada\n",
        "        \n",
        "        tiempo_activo = sum(duraciones[c] for c in piezas_del_musico)\n",
        "        espera_musico = span - tiempo_activo\n",
        "        espera_total += espera_musico\n",
        "        \n",
        "        detalles_musicos.append({\n",
        "            'musico': i + 1, 'span': span, 'actividad': tiempo_activo, 'espera': espera_musico\n",
        "        })\n",
        "        \n",
        "    return espera_total, detalles_musicos"
      ]
    },
    {
      "cell_type": "markdown",
      "id": "5fe806eb",
      "metadata": {
        "id": "5fe806eb"
      },
      "source": [
        "## 3. Modelado del Problema\n",
        "\n"
      ]
    },
    {
      "cell_type": "code",
      "execution_count": null,
      "id": "1cebe5dc",
      "metadata": {
        "id": "1cebe5dc"
      },
      "outputs": [],
      "source": [
        "def optimizar_ensayo_con_simetria_corregida():\n",
        "    \"\"\"\n",
        "    Encuentra el orden óptimo mediante búsqueda exhaustiva, aplicando \n",
        "    restricciones y una ruptura de simetría robusta.\n",
        "    \"\"\"\n",
        "    composiciones = range(len(DURACIONES))\n",
        "    mejor_orden = None\n",
        "    min_espera = float('inf')\n",
        "    mejor_detalle = None\n",
        "\n",
        "    for orden in itertools.permutations(composiciones):\n",
        "        # Para facilitar la búsqueda de posiciones\n",
        "        pos = {comp: i for i, comp in enumerate(orden)}\n",
        "\n",
        "        # --- Filtro 1: Restricciones del problema ---\n",
        "        if pos[1] > pos[7]:  # C2 (idx 1) debe ir antes de C8 (idx 7)\n",
        "            continue\n",
        "        if pos[5] != pos[4] + 1:  # C6 (idx 5) debe ir justo después de C5 (idx 4)\n",
        "            continue\n",
        "\n",
        "        # --- Filtro 2: Ruptura de Simetría---\n",
        "        # Forzamos un orden relativo entre dos piezas no restringidas (C1 y C2)\n",
        "        # para eliminar soluciones revertidas sin descartar la óptima.\n",
        "        if pos[0] > pos[1]: # C1 (idx 0) debe ir antes de C2 (idx 1)\n",
        "            continue\n",
        "            \n",
        "        espera_actual, detalle_actual = calcular_espera_total(orden, DURACIONES, MUSICOS)\n",
        "\n",
        "        if espera_actual < min_espera:\n",
        "            min_espera = espera_actual\n",
        "            mejor_orden = orden\n",
        "            mejor_detalle = detalle_actual\n",
        "            \n",
        "    return mejor_orden, min_espera, mejor_detalle"
      ]
    },
    {
      "cell_type": "markdown",
      "id": "ee707222",
      "metadata": {
        "id": "ee707222"
      },
      "source": [
        "## 4. Ejecución y Análisis de Resultados"
      ]
    },
    {
      "cell_type": "code",
      "execution_count": 32,
      "id": "d122a399",
      "metadata": {
        "colab": {
          "base_uri": "https://localhost:8080/"
        },
        "id": "d122a399",
        "outputId": "0d51b3ed-5a5c-4f2d-b6c0-d66bac9dc6dc"
      },
      "outputs": [
        {
          "name": "stdout",
          "output_type": "stream",
          "text": [
            "\n",
            "Orden óptimo de las composiciones:\n",
            "   [C9 -> C7 -> C1 -> C5 -> C6 -> C3 -> C4 -> C2 -> C8]\n",
            "\n",
            "Desglose del tiempo por músico:\n",
            " - Músico 1: Span = 22 min, Actividad = 19 min => Tiempo de espera = 3  min\n",
            " - Músico 2: Span = 22 min, Actividad = 18 min => Tiempo de espera = 4  min\n",
            " - Músico 3: Span = 22 min, Actividad = 16 min => Tiempo de espera = 6  min\n",
            " - Músico 4: Span = 16 min, Actividad = 16 min => Tiempo de espera = 0  min\n",
            " - Músico 5: Span = 20 min, Actividad = 17 min => Tiempo de espera = 3  min\n",
            "\n",
            "Tiempo Total de Espera Minimizado: 16 minutos\n",
            "\n",
            "Estadísticas de la Búsqueda:\n",
            "   - Tiempo de ejecución: 0.3944 segundos\n"
          ]
        }
      ],
      "source": [
        "if __name__ == \"__main__\":\n",
        "    start_time = time.time()\n",
        "    \n",
        "    orden_optimo, espera_minima, detalle_optimo = optimizar_ensayo_con_simetria_corregida()\n",
        "    \n",
        "    end_time = time.time()\n",
        "    \n",
        "    orden_legible = [f\"C{c+1}\" for c in orden_optimo]\n",
        "    \n",
        "    print(\"\\nOrden óptimo de las composiciones:\")\n",
        "    print(f\"   [{' -> '.join(orden_legible)}]\")\n",
        "    \n",
        "    print(\"\\nDesglose del tiempo por músico:\")\n",
        "    for detalle in detalle_optimo:\n",
        "        print(f\" - Músico {detalle['musico']}: Span = {detalle['span']:<2} min, \"\n",
        "              f\"Actividad = {detalle['actividad']:<2} min => \"\n",
        "              f\"Tiempo de espera = {detalle['espera']:<2} min\")\n",
        "    \n",
        "    print()\n",
        "    print(f\"Tiempo Total de Espera Minimizado: {espera_minima} minutos\")\n",
        "\n",
        "    print(f\"\\nEstadísticas de la Búsqueda:\")\n",
        "    print(f\"   - Tiempo de ejecución: {end_time - start_time:.4f} segundos\")\n"
      ]
    }
  ],
  "metadata": {
    "colab": {
      "provenance": []
    },
    "kernelspec": {
      "display_name": "3.10.5",
      "language": "python",
      "name": "python3"
    },
    "language_info": {
      "codemirror_mode": {
        "name": "ipython",
        "version": 3
      },
      "file_extension": ".py",
      "mimetype": "text/x-python",
      "name": "python",
      "nbconvert_exporter": "python",
      "pygments_lexer": "ipython3",
      "version": "3.10.5"
    }
  },
  "nbformat": 4,
  "nbformat_minor": 5
}
